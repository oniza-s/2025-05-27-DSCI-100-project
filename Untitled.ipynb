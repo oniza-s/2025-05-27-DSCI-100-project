# 2025-05-27-DSCI-100-project
download.file("https://ubcca-my.sharepoint.com/:x:/r/personal/osyed02_student_ubc_ca/Documents/players.csv.xlsx?d=wede3c0bbb1a64a23b17caf0dc4a0b350&csf=1&web=1&e=h3DQlW", "data/players.csv")
players=read_csv("data/players.csv")
